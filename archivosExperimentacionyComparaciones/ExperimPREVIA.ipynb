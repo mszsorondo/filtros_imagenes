{
 "cells": [
  {
   "cell_type": "code",
   "execution_count": 1,
   "metadata": {},
   "outputs": [],
   "source": [
    "import numpy as np\n",
    "import pandas as pd\n",
    "import matplotlib.pyplot as plt\n",
    "\n",
    "\n"
   ]
  },
  {
   "cell_type": "code",
   "execution_count": 2,
   "metadata": {},
   "outputs": [],
   "source": [
    "## SIN OPTIMIZAR\n",
    "\n",
    "BladeRunner_480_2049 = 2511182.880000\n",
    "\n",
    "Deadpool_480 = 2513042.640000\n",
    "\n",
    "It_480 = 2470164.480000\n",
    "\n",
    "JusticeLeague_480 = 2518416.720000\n",
    "\n",
    "TheMandalorian_480 = 2540713.680000\n",
    "\n",
    "\n",
    "BladeRunner_720_2049 = 6600252.960000\n",
    "\n",
    "Deadpool_720 = 6432651.360000\n",
    "\n",
    "It_720 = 6446297.520000\n",
    "\n",
    "JusticeLeague_720 = 6550801.200000\n",
    "\n",
    "TheMandalorian_720 = 6544332.720000\n",
    "\n",
    "\n",
    "\n",
    "\n",
    "BladeRunner_1080_2049 = 16683511.680000\n",
    "\n",
    "Deadpool_1080 = 16734023.280000\n",
    "\n",
    "It_1080 = 16323879.600000\n",
    "\n",
    "JusticeLeague_1080 = 16767185.040000\n",
    "\n",
    "TheMandalorian_1080 = 16780484.880000\n",
    "\n",
    "\n",
    "\n",
    "\n",
    "BladeRunner_4k_2049 = 95538715.200000\n",
    "\n",
    "Deadpool_4k = 95458779.360000\n",
    "\n",
    "It_4k = 94874941.440000\n",
    "\n",
    "JusticeLeague_4k = 95363869.680000\n",
    "\n",
    "TheMandalorian_4k = 96213191.040000\n",
    "\n",
    "\n",
    "p480 = [BladeRunner_480_2049, Deadpool_480, It_480, JusticeLeague_480, TheMandalorian_480]\n",
    "\n",
    "p720 = [BladeRunner_720_2049, Deadpool_720, It_720, JusticeLeague_720, TheMandalorian_720]\n",
    "\n",
    "p1080 = [BladeRunner_1080_2049, Deadpool_1080, It_1080, JusticeLeague_1080, TheMandalorian_1080]\n",
    "\n",
    "p4k = [BladeRunner_4k_2049, Deadpool_4k, It_4k, JusticeLeague_4k, TheMandalorian_4k]\n",
    "\n",
    "\n"
   ]
  },
  {
   "cell_type": "code",
   "execution_count": 14,
   "metadata": {},
   "outputs": [
    {
     "name": "stderr",
     "output_type": "stream",
     "text": [
      "No handles with labels found to put in legend.\n",
      "No handles with labels found to put in legend.\n"
     ]
    },
    {
     "data": {
      "image/png": "[encoded data removed]",
      "text/plain": [
       "<Figure size 1296x360 with 3 Axes>"
      ]
     },
     "metadata": {
      "needs_background": "light"
     },
     "output_type": "display_data"
    }
   ],
   "source": [
    "labels = ['BladeRunner', 'Deadpool', 'IT', 'Justice League', 'The Mandalorian']\n",
    "\n",
    "x = np.arange(5)\n",
    "width = 0.3\n",
    "fig, (ax,ax2,ax3) = plt.subplots(1,3)\n",
    "\n",
    "rects480 = ax.bar(x - width/2 ,p480, label='480p')\n",
    "\n",
    "# Add some text for labels, title and custom x-axis tick labels, etc.\n",
    "ax.set_ylabel('Ciclos')\n",
    "ax.set_xlabel('ASM/Optimizacion C')\n",
    "ax.set_title('Filtro Funny')\n",
    "ax.set_xticks(x)\n",
    "ax.set_xticklabels(labels)\n",
    "#ax.legend()\n",
    "\n",
    "#rects1 = ax2.bar(x - width/2 ,rects480,width, label='Corrida 1')\n",
    "#rects1b = ax2.bar(x + width/2 ,rects720, width,label='Corrida 2')\n",
    "# Add some text for labels, title and custom x-axis tick labels, etc.\n",
    "ax2.set_ylabel('Ciclos')\n",
    "ax2.set_xlabel('ASM/Optimizacion C')\n",
    "ax2.set_title('Filtro Max')\n",
    "ax2.set_xticks(x)\n",
    "ax2.set_xticklabels(labels)\n",
    "#ax2.legend()\n",
    "\n",
    "#rects1 = ax3.bar(x - width/2 ,gamma_means[0:5],width, label='Corrida 1')\n",
    "#rects1b = ax3.bar(x + width/2 ,gamma_means[5:], width,label='Corrida 2')\n",
    "# Add some text for labels, title and custom x-axis tick labels, etc.\n",
    "ax3.set_ylabel('Ciclos')\n",
    "ax3.set_xlabel('ASM/Optimizacion C')\n",
    "ax3.set_title('Filtro Gamma')\n",
    "ax3.set_xticks(x)\n",
    "ax3.set_xticklabels(labels)\n",
    "#ax3.legend()\n",
    "\n",
    "#ax.bar_label(rects1, padding=3)\n",
    "#ax.bar_label(rects1b, padding=3)\n",
    "fig.tight_layout()\n",
    "#ax.set_ylim(0,4*(10**9))\n",
    "\n",
    "\n",
    "fig.set_figheight(5)\n",
    "fig.set_figwidth(18)\n",
    "plt.savefig('Comparaciones.jpg')\n",
    "plt.show()\n",
    "\n"
   ]
  },
  {
   "cell_type": "code",
   "execution_count": null,
   "metadata": {},
   "outputs": [],
   "source": []
  }
 ],
 "metadata": {
  "interpreter": {
   "hash": "b7a72e0aecaf8ba1a38e5a558578c66160445e8a4907431cad47c18ab66b8d64"
  },
  "kernelspec": {
   "display_name": "Python 3.8.5 64-bit ('base': conda)",
   "name": "python3"
  },
  "language_info": {
   "name": "python",
   "version": ""
  },
  "orig_nbformat": 4
 },
 "nbformat": 4,
 "nbformat_minor": 2
}